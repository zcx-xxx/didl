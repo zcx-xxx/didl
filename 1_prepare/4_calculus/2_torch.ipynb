{
 "cells": [
  {
   "cell_type": "markdown",
   "metadata": {},
   "source": [
    "### 导包"
   ]
  },
  {
   "cell_type": "code",
   "execution_count": 10,
   "metadata": {},
   "outputs": [],
   "source": [
    "import torch"
   ]
  },
  {
   "cell_type": "markdown",
   "metadata": {},
   "source": [
    "### 标量自动微分"
   ]
  },
  {
   "cell_type": "code",
   "execution_count": 11,
   "metadata": {},
   "outputs": [
    {
     "name": "stdout",
     "output_type": "stream",
     "text": [
      "tensor(3., grad_fn=<AddBackward0>) tensor(2.) tensor(1.)\n"
     ]
    }
   ],
   "source": [
    "x = torch.tensor(1.0, requires_grad=True)\n",
    "y = torch.tensor(2.0, requires_grad=True)\n",
    "z = x**2+y\n",
    "z.backward()\n",
    "print(z, x.grad, y.grad)"
   ]
  },
  {
   "cell_type": "markdown",
   "metadata": {},
   "source": [
    "### 向量自动微分"
   ]
  },
  {
   "cell_type": "code",
   "execution_count": 27,
   "metadata": {},
   "outputs": [
    {
     "name": "stdout",
     "output_type": "stream",
     "text": [
      "tensor([0.7836, 0.1262, 0.1162], requires_grad=True)\n",
      "tensor([0.6140, 0.0159, 0.0135], grad_fn=<PowBackward0>)\n",
      "tensor([1.5671, 0.2525, 0.2323], grad_fn=<AddBackward0>)\n",
      "tensor([0.6140, 0.0159, 0.0135], grad_fn=<PowBackward0>) tensor([1.5671, 0.2525, 0.2323])\n",
      "tensor([1.5671, 0.2525, 0.2323], grad_fn=<AddBackward0>) (tensor([2., 2., 2.]),)\n"
     ]
    }
   ],
   "source": [
    "\n",
    "x = torch.rand(3, requires_grad=True)\n",
    "print(x)\n",
    "\n",
    "y = x**2\n",
    "print(y)\n",
    "\n",
    "z = x + x\n",
    "print(z)\n",
    "\n",
    "# 只有标量可以调用 backward\n",
    "y.sum().backward()\n",
    "print(y, x.grad)\n",
    "\n",
    "# 为了防止梯度累加，将之前的梯度清零\n",
    "x.grad.zero_()\n",
    "\n",
    "# 以下四种方式等同\n",
    "# z.sum().backward()\n",
    "# z.backward(torch.ones(len(x)))\n",
    "# torch.autograd.backward(z, torch.ones(len(x)))\n",
    "grads = torch.autograd.grad(z, x, torch.ones(len(x)))\n",
    "print(z, grads)"
   ]
  }
 ],
 "metadata": {
  "interpreter": {
   "hash": "1854e41a69a0e1d0b7c2cbc8cd354d15242291d211e3f09d611ca6203fa6e0d2"
  },
  "kernelspec": {
   "display_name": "Python 3.8.13 ('d2l': conda)",
   "language": "python",
   "name": "python3"
  },
  "language_info": {
   "codemirror_mode": {
    "name": "ipython",
    "version": 3
   },
   "file_extension": ".py",
   "mimetype": "text/x-python",
   "name": "python",
   "nbconvert_exporter": "python",
   "pygments_lexer": "ipython3",
   "version": "3.8.13"
  },
  "orig_nbformat": 4
 },
 "nbformat": 4,
 "nbformat_minor": 2
}
