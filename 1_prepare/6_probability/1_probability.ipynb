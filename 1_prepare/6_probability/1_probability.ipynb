{
 "cells": [
  {
   "cell_type": "code",
   "execution_count": 1,
   "metadata": {},
   "outputs": [],
   "source": [
    "import torch\n",
    "from torch.distributions import multinomial"
   ]
  },
  {
   "cell_type": "code",
   "execution_count": 14,
   "metadata": {},
   "outputs": [
    {
     "name": "stdout",
     "output_type": "stream",
     "text": [
      "torch.Size([500, 6])\n",
      "tensor([[3., 3., 0., 2., 0., 2.],\n",
      "        [1., 1., 1., 3., 2., 2.],\n",
      "        [4., 2., 2., 1., 1., 0.],\n",
      "        ...,\n",
      "        [1., 0., 0., 2., 5., 2.],\n",
      "        [1., 2., 3., 0., 2., 2.],\n",
      "        [1., 1., 1., 2., 1., 4.]])\n",
      "tensor([[  3.,   3.,   0.,   2.,   0.,   2.],\n",
      "        [  4.,   4.,   1.,   5.,   2.,   4.],\n",
      "        [  8.,   6.,   3.,   6.,   3.,   4.],\n",
      "        ...,\n",
      "        [836., 824., 832., 854., 836., 798.],\n",
      "        [837., 826., 835., 854., 838., 800.],\n",
      "        [838., 827., 836., 856., 839., 804.]])\n",
      "tensor([[212109., 209834., 206851., 217427., 205653., 200626.]])\n"
     ]
    }
   ],
   "source": [
    "fair_probs = torch.ones([6]) / 6\n",
    "# 进行 500 组实验，每组进行 10 次抽样\n",
    "counts = multinomial.Multinomial(10, fair_probs).sample((500,))\n",
    "\n",
    "print(counts.size())\n",
    "print(counts)\n",
    "\n",
    "# dim = 0，按行将数据累加；dim = 1，按列将数据累加\n",
    "cum_counts = counts.cumsum(dim=0)\n",
    "print(cum_counts)\n",
    "\n",
    "# print(cum_counts.sum(dim=1, keepdim=True).size())\n",
    "# print(cum_counts.sum(dim=1).size())\n",
    "# 按行或者按列求和， keepdims 保证结果保持原矩阵的维度\n",
    "print(cum_counts.sum(dim=0, keepdim=True))\n",
    "estimates = cum_counts / cum_counts.sum(dim=1, keepdims=True)\n",
    "\n",
    "# d2l.set_figsize((6, 4.5))\n",
    "# for i in range(6):\n",
    "#     d2l.plt.plot(estimates[:, i].numpy(),\n",
    "#                  label=(\"P(die=\" + str(i + 1) + \")\"))\n",
    "# d2l.plt.axhline(y=0.167, color='black', linestyle='dashed')\n",
    "# d2l.plt.gca().set_xlabel('Groups of experiments')\n",
    "# d2l.plt.gca().set_ylabel('Estimated probability')\n",
    "# d2l.plt.legend();"
   ]
  }
 ],
 "metadata": {
  "interpreter": {
   "hash": "1854e41a69a0e1d0b7c2cbc8cd354d15242291d211e3f09d611ca6203fa6e0d2"
  },
  "kernelspec": {
   "display_name": "Python 3.8.13 ('d2l')",
   "language": "python",
   "name": "python3"
  },
  "language_info": {
   "codemirror_mode": {
    "name": "ipython",
    "version": 3
   },
   "file_extension": ".py",
   "mimetype": "text/x-python",
   "name": "python",
   "nbconvert_exporter": "python",
   "pygments_lexer": "ipython3",
   "version": "3.8.13"
  },
  "orig_nbformat": 4
 },
 "nbformat": 4,
 "nbformat_minor": 2
}
